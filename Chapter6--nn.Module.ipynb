{
 "cells": [
  {
   "cell_type": "markdown",
   "metadata": {},
   "source": [
    "# 实现全连接"
   ]
  },
  {
   "cell_type": "code",
   "execution_count": 1,
   "metadata": {},
   "outputs": [],
   "source": [
    "import torch\n",
    "from torch import nn"
   ]
  },
  {
   "cell_type": "code",
   "execution_count": 2,
   "metadata": {},
   "outputs": [],
   "source": [
    "class Liner(nn.Module):\n",
    "    def __init__(self, in_features, out_features):\n",
    "        super(Liner, self).__init__()\n",
    "        self.w = nn.Parameter(torch.randn(in_features, out_features)) #nn.Parameter默认的requires_grad=True\n",
    "        self.b = nn.Parameter(torch.randn(out_features))\n",
    "        \n",
    "    def forward(self, x):\n",
    "        return x.mm(self.w) + self.b #必须用mm，矩阵运算，*是对所有元素进行运算"
   ]
  },
  {
   "cell_type": "code",
   "execution_count": 3,
   "metadata": {},
   "outputs": [
    {
     "data": {
      "text/plain": [
       "tensor([[-0.5586,  1.1560,  0.2749],\n",
       "        [ 2.1434, -0.9755,  1.1023]], grad_fn=<AddBackward0>)"
      ]
     },
     "execution_count": 3,
     "metadata": {},
     "output_type": "execute_result"
    }
   ],
   "source": [
    "layer = Liner(4, 3)\n",
    "inputs = torch.randn((2,4), requires_grad = True)\n",
    "output = layer(inputs) #直接调用layer(input)，不用layer.forward(input)\n",
    "output"
   ]
  },
  {
   "cell_type": "code",
   "execution_count": 4,
   "metadata": {},
   "outputs": [
    {
     "name": "stdout",
     "output_type": "stream",
     "text": [
      "Parameter containing:\n",
      "tensor([[ 0.6407, -0.0551,  0.0428],\n",
      "        [-0.2619,  1.4375, -0.7751],\n",
      "        [ 1.0167, -0.5471, -0.0039],\n",
      "        [-0.2408,  0.0442, -0.3783]], requires_grad=True)\n",
      "Parameter containing:\n",
      "tensor([-0.6660,  0.7761,  0.8841], requires_grad=True)\n"
     ]
    }
   ],
   "source": [
    "for i in layer.parameters(): #获取参数\n",
    "    print(i)"
   ]
  },
  {
   "cell_type": "code",
   "execution_count": 5,
   "metadata": {},
   "outputs": [
    {
     "name": "stdout",
     "output_type": "stream",
     "text": [
      "w\n",
      "---------------------------------------\n",
      "Parameter containing:\n",
      "tensor([[ 0.6407, -0.0551,  0.0428],\n",
      "        [-0.2619,  1.4375, -0.7751],\n",
      "        [ 1.0167, -0.5471, -0.0039],\n",
      "        [-0.2408,  0.0442, -0.3783]], requires_grad=True)\n",
      "b\n",
      "---------------------------------------\n",
      "Parameter containing:\n",
      "tensor([-0.6660,  0.7761,  0.8841], requires_grad=True)\n"
     ]
    }
   ],
   "source": [
    "for name, param in layer.named_parameters():\n",
    "    print(name)\n",
    "    print(\"---------------------------------------\")\n",
    "    print(param)"
   ]
  },
  {
   "cell_type": "markdown",
   "metadata": {},
   "source": [
    "# 多层感知机"
   ]
  },
  {
   "cell_type": "code",
   "execution_count": 6,
   "metadata": {},
   "outputs": [],
   "source": [
    "class Perceptron(nn.Module):\n",
    "    def __init__(self, in_feature, hidden_feature, out_feature):\n",
    "        super().__init__()\n",
    "        self.layer1 = Liner(in_feature, hidden_feature) #Liner中的可学习参数也会成为当前类的可学习参数\n",
    "        self.layer2 = Liner(hidden_feature, out_feature)\n",
    "    def forward(self, x):\n",
    "        x = nn.Sigmoid(self.layer1(x))\n",
    "        x = self.layer2(x)\n",
    "        return x"
   ]
  },
  {
   "cell_type": "markdown",
   "metadata": {},
   "source": [
    "包含子类时的命名方法：\n",
    "\n",
    "self.sub_module = SubModule(); SubModule中有parameter为para_name\n",
    "\n",
    "则最终的name为：sub_module.para_name"
   ]
  },
  {
   "cell_type": "code",
   "execution_count": 7,
   "metadata": {},
   "outputs": [
    {
     "name": "stdout",
     "output_type": "stream",
     "text": [
      "layer1.w : torch.Size([3, 4])\n",
      "layer1.b : torch.Size([4])\n",
      "layer2.w : torch.Size([4, 1])\n",
      "layer2.b : torch.Size([1])\n"
     ]
    }
   ],
   "source": [
    "perceptron = Perceptron(3, 4, 1)\n",
    "for name, param in perceptron.named_parameters(): \n",
    "    print(name,\":\",param.size())"
   ]
  },
  {
   "cell_type": "code",
   "execution_count": null,
   "metadata": {},
   "outputs": [],
   "source": []
  }
 ],
 "metadata": {
  "kernelspec": {
   "display_name": "torch",
   "language": "python",
   "name": "torch"
  },
  "language_info": {
   "codemirror_mode": {
    "name": "ipython",
    "version": 3
   },
   "file_extension": ".py",
   "mimetype": "text/x-python",
   "name": "python",
   "nbconvert_exporter": "python",
   "pygments_lexer": "ipython3",
   "version": "3.6.10"
  },
  "toc": {
   "base_numbering": 1,
   "nav_menu": {},
   "number_sections": true,
   "sideBar": true,
   "skip_h1_title": false,
   "title_cell": "Table of Contents",
   "title_sidebar": "Contents",
   "toc_cell": false,
   "toc_position": {},
   "toc_section_display": true,
   "toc_window_display": false
  }
 },
 "nbformat": 4,
 "nbformat_minor": 2
}
