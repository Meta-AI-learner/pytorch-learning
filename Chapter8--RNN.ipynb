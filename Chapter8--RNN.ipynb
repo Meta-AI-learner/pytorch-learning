{
 "cells": [
  {
   "cell_type": "markdown",
   "metadata": {},
   "source": [
    "# RCNN--LSTM\n",
    "\n",
    "输入数据格式：\n",
    "\n",
    "input(seq_len, batch, input_size)\n",
    "\n",
    "h0(num_layers * num_directions, batch, hidden_size)\n",
    "\n",
    "c0(num_layers * num_directions, batch, hidden_size)\n",
    "\n",
    "输出数据格式：\n",
    "\n",
    "output(seq_len, batch, hidden_size * num_directions)\n",
    "\n",
    "hn(num_layers * num_directions, batch, hidden_size)\n",
    "\n",
    "cn(num_layers * num_directions, batch, hidden_size)"
   ]
  },
  {
   "cell_type": "code",
   "execution_count": 1,
   "metadata": {},
   "outputs": [
    {
     "data": {
      "text/plain": [
       "tensor([[[ 0.2414, -0.5002, -0.1329],\n",
       "         [ 0.0371, -0.3382,  0.0037],\n",
       "         [-0.1093, -0.1813,  0.1471]],\n",
       "\n",
       "        [[ 0.3509, -0.1424, -0.2893],\n",
       "         [ 0.2316, -0.1697, -0.1579],\n",
       "         [-0.0998, -0.4573,  0.1646]]], grad_fn=<StackBackward>)"
      ]
     },
     "execution_count": 1,
     "metadata": {},
     "output_type": "execute_result"
    }
   ],
   "source": [
    "import torch\n",
    "import torch.nn as nn\n",
    "\n",
    "torch.manual_seed(1000)\n",
    "\n",
    "inputs = torch.randn(2, 3, 4) #(seq_len, batch, input_size)\n",
    "\n",
    "\n",
    "lstm1 = nn.LSTM(4, 3, 1) #(input_size,hidden_size,num_layers)\n",
    "c0 = torch.randn(1, 3, 3) #(num_layers,batch,output_size)\n",
    "\n",
    "h0 = torch.randn(1, 3, 3) #(num_layers,batch,output_size)\n",
    "out, (h, c) = lstm1(inputs, (h0, c0))\n",
    "\n",
    "out"
   ]
  },
  {
   "cell_type": "code",
   "execution_count": 2,
   "metadata": {},
   "outputs": [
    {
     "data": {
      "text/plain": [
       "tensor([[[ 0.2414, -0.5002, -0.1329],\n",
       "         [ 0.0371, -0.3382,  0.0037],\n",
       "         [-0.1093, -0.1813,  0.1471]],\n",
       "\n",
       "        [[ 0.3509, -0.1424, -0.2893],\n",
       "         [ 0.2316, -0.1697, -0.1579],\n",
       "         [-0.0998, -0.4573,  0.1646]]], grad_fn=<StackBackward>)"
      ]
     },
     "execution_count": 2,
     "metadata": {},
     "output_type": "execute_result"
    }
   ],
   "source": [
    "torch.manual_seed(1000)\n",
    "inputs = torch.randn(2, 3, 4) #(seq_len, batch, input_size)\n",
    "\n",
    "#一个LSTMCell对应的层数只是一层\n",
    "lstm = nn.LSTMCell(4, 3) #(input_size,hidden_size)\n",
    "cx = torch.randn(3, 3)\n",
    "hx = torch.randn(3, 3)\n",
    "out = []\n",
    "\n",
    "for i in inputs:\n",
    "    hx, cx = lstm(i, (hx, cx))\n",
    "    out.append(hx)\n",
    "torch.stack(out)\n"
   ]
  },
  {
   "cell_type": "markdown",
   "metadata": {},
   "source": [
    "## 词向量在自然语言中也有非常广泛的应用，Pytorch同样也提供了Embedding层"
   ]
  },
  {
   "cell_type": "code",
   "execution_count": 3,
   "metadata": {},
   "outputs": [],
   "source": [
    "embedding = nn.Embedding(4, 5)\n",
    "#使用预训练好的词向量初始化embedding\n",
    "embedding.weight.data = torch.arange(20).view(4, 5)"
   ]
  },
  {
   "cell_type": "code",
   "execution_count": 4,
   "metadata": {},
   "outputs": [
    {
     "data": {
      "text/plain": [
       "tensor([3, 2, 1])"
      ]
     },
     "execution_count": 4,
     "metadata": {},
     "output_type": "execute_result"
    }
   ],
   "source": [
    "inputs = torch.arange(3, 0, -1).long()\n",
    "inputs"
   ]
  },
  {
   "cell_type": "code",
   "execution_count": 5,
   "metadata": {},
   "outputs": [
    {
     "data": {
      "text/plain": [
       "tensor([[15, 16, 17, 18, 19],\n",
       "        [10, 11, 12, 13, 14],\n",
       "        [ 5,  6,  7,  8,  9]], grad_fn=<EmbeddingBackward>)"
      ]
     },
     "execution_count": 5,
     "metadata": {},
     "output_type": "execute_result"
    }
   ],
   "source": [
    "output = embedding(inputs)\n",
    "output"
   ]
  },
  {
   "cell_type": "markdown",
   "metadata": {},
   "source": [
    "# 损失函数"
   ]
  },
  {
   "cell_type": "code",
   "execution_count": 6,
   "metadata": {},
   "outputs": [
    {
     "data": {
      "text/plain": [
       "tensor(0.5944)"
      ]
     },
     "execution_count": 6,
     "metadata": {},
     "output_type": "execute_result"
    }
   ],
   "source": [
    "score = torch.randn(3, 2)\n",
    "\n",
    "label = torch.tensor([1, 0, 1])\n",
    "\n",
    "criterion = nn.CrossEntropyLoss()\n",
    "loss = criterion(score, label)\n",
    "\n",
    "loss"
   ]
  }
 ],
 "metadata": {
  "kernelspec": {
   "display_name": "torch",
   "language": "python",
   "name": "torch"
  },
  "language_info": {
   "codemirror_mode": {
    "name": "ipython",
    "version": 3
   },
   "file_extension": ".py",
   "mimetype": "text/x-python",
   "name": "python",
   "nbconvert_exporter": "python",
   "pygments_lexer": "ipython3",
   "version": "3.6.10"
  },
  "toc": {
   "base_numbering": 1,
   "nav_menu": {},
   "number_sections": true,
   "sideBar": true,
   "skip_h1_title": false,
   "title_cell": "Table of Contents",
   "title_sidebar": "Contents",
   "toc_cell": false,
   "toc_position": {},
   "toc_section_display": true,
   "toc_window_display": false
  }
 },
 "nbformat": 4,
 "nbformat_minor": 2
}
