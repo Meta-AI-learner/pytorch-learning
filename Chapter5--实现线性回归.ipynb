{
 "cells": [
  {
   "cell_type": "code",
   "execution_count": 1,
   "metadata": {},
   "outputs": [],
   "source": [
    "import torch\n",
    "from torch.autograd import Variable\n",
    "from matplotlib import pyplot as plt\n",
    "from IPython import display"
   ]
  },
  {
   "cell_type": "code",
   "execution_count": 2,
   "metadata": {},
   "outputs": [],
   "source": [
    "torch.manual_seed(1000) #随机数种子\n",
    "\n",
    "def get_fake_data(batch_size = 32):\n",
    "    x = torch.rand(batch_size, 1)*20\n",
    "    y = x*2 + (1 + torch.randn(batch_size, 1)) * 3 #添加噪声\n",
    "    return x, y"
   ]
  },
  {
   "cell_type": "code",
   "execution_count": 3,
   "metadata": {},
   "outputs": [
    {
     "data": {
      "text/plain": [
       "<matplotlib.collections.PathCollection at 0x7f2acb22de48>"
      ]
     },
     "execution_count": 3,
     "metadata": {},
     "output_type": "execute_result"
    },
    {
     "data": {
      "image/png": "[encoded data removed]",
      "text/plain": [
       "<Figure size 432x288 with 1 Axes>"
      ]
     },
     "metadata": {
      "needs_background": "light"
     },
     "output_type": "display_data"
    }
   ],
   "source": [
    "x, y = get_fake_data()\n",
    "plt.scatter(x.squeeze().numpy(), y.squeeze().numpy())"
   ]
  },
  {
   "cell_type": "code",
   "execution_count": 4,
   "metadata": {},
   "outputs": [
    {
     "data": {
      "image/png": "[encoded data removed]",
      "text/plain": [
       "<Figure size 432x288 with 1 Axes>"
      ]
     },
     "metadata": {
      "needs_background": "light"
     },
     "output_type": "display_data"
    },
    {
     "name": "stdout",
     "output_type": "stream",
     "text": [
      "tensor(2.0361) tensor(2.9716)\n"
     ]
    }
   ],
   "source": [
    "#w = Variable(torch.randn(1), requires_grad = True)\n",
    "#b = Variable(torch.randn(1), requires_grad = True)\n",
    "w = torch.randn(1, requires_grad = True)\n",
    "b = torch.randn(1, requires_grad = True)\n",
    "lr = 0.0001\n",
    "for i in range(8000):\n",
    "    x, y = get_fake_data()\n",
    "    \n",
    "    #前向计算\n",
    "    y_pred = w*x + b\n",
    "    \n",
    "    #loss\n",
    "    loss = 0.5*(y_pred - y)**2\n",
    "    loss = loss.sum()\n",
    "    #backward\n",
    "    loss.backward()\n",
    "    \n",
    "    #update\n",
    "    w.data.sub_(lr*w.grad)\n",
    "    b.data.sub_(lr*b.grad)\n",
    "    \n",
    "    #梯度清零，必须做到\n",
    "    w.grad.zero_()\n",
    "    b.grad.zero_()\n",
    "    if i % 1000 == 0:\n",
    "        display.clear_output(wait=True)\n",
    "        x = torch.arange(0, 20).view(-1,1)\n",
    "        y = w.data*x + b.data\n",
    "        plt.plot(x.numpy(), y.data.numpy()) #predict\n",
    "        \n",
    "        x2, y2 = get_fake_data()\n",
    "        plt.scatter(x2.numpy(), y2.numpy())\n",
    "        \n",
    "        plt.xlim(0, 20)\n",
    "        plt.ylim(0, 41)\n",
    "        plt.show()\n",
    "        plt.pause(0.5)\n",
    "print(w.data[0], b.data[0]) "
   ]
  },
  {
   "cell_type": "code",
   "execution_count": null,
   "metadata": {},
   "outputs": [],
   "source": []
  }
 ],
 "metadata": {
  "kernelspec": {
   "display_name": "torch",
   "language": "python",
   "name": "torch"
  },
  "language_info": {
   "codemirror_mode": {
    "name": "ipython",
    "version": 3
   },
   "file_extension": ".py",
   "mimetype": "text/x-python",
   "name": "python",
   "nbconvert_exporter": "python",
   "pygments_lexer": "ipython3",
   "version": "3.6.10"
  },
  "toc": {
   "base_numbering": 1,
   "nav_menu": {},
   "number_sections": true,
   "sideBar": true,
   "skip_h1_title": false,
   "title_cell": "Table of Contents",
   "title_sidebar": "Contents",
   "toc_cell": false,
   "toc_position": {},
   "toc_section_display": true,
   "toc_window_display": false
  }
 },
 "nbformat": 4,
 "nbformat_minor": 2
}
